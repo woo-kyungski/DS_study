{
 "cells": [
  {
   "cell_type": "markdown",
   "id": "53afe209",
   "metadata": {},
   "source": [
    "최고기온 + 해당일자 찾기"
   ]
  },
  {
   "cell_type": "code",
   "execution_count": 1,
   "id": "1e5e3393",
   "metadata": {},
   "outputs": [
    {
     "name": "stdout",
     "output_type": "stream",
     "text": [
      "최고기온: 39.6, 날짜:2018-08-01\n"
     ]
    }
   ],
   "source": [
    "import csv\n",
    "\n",
    "f=open('./data/seoul.csv')   # seoul.csv 파일을 일기 모드로 불러옴\n",
    "data=csv.reader(f)\n",
    "header=next(data)            # 첫번째 행(제목행)  header 변수에 저장\n",
    "\n",
    "max_temp=0.0     # 온도, 실수형\n",
    "max_day=\"\"       # 날짜\n",
    "\n",
    "for row in data:\n",
    "    if row[4]!=\"\":                     # 공백 데이터인지 확인\n",
    "        if float(row[4])>max_temp:     # 온도를 실수형 자료로 변경 후 저장\n",
    "            max_temp=float(row[4])     # 날짜 정보 저장\n",
    "            max_day=row[2]\n",
    "            \n",
    "print(f'최고기온: {max_temp}, 날짜:{max_day}')"
   ]
  },
  {
   "cell_type": "markdown",
   "id": "01e9826a",
   "metadata": {},
   "source": [
    "## matplotlib 라이브러리를 이용한 시각화¶\n",
    "- 파이썬 시각화 모듈\n",
    "- 2D 형태의 그래프, 이미지 등을 사용할때 적용\n",
    "- 실제 과학 컴퓨팅 연구 분야나 인공지능 연구 분야에서도 많이 활용\n",
    "- https://matplotlib.org/"
   ]
  },
  {
   "cell_type": "code",
   "execution_count": 5,
   "id": "909d00d2",
   "metadata": {},
   "outputs": [
    {
     "name": "stdout",
     "output_type": "stream",
     "text": [
      "Requirement already satisfied: matplotlib in c:\\users\\wooky\\.conda\\envs\\multi\\lib\\site-packages (3.3.4)\n",
      "Requirement already satisfied: kiwisolver>=1.0.1 in c:\\users\\wooky\\.conda\\envs\\multi\\lib\\site-packages (from matplotlib) (1.3.1)\n",
      "Requirement already satisfied: python-dateutil>=2.1 in c:\\users\\wooky\\.conda\\envs\\multi\\lib\\site-packages (from matplotlib) (2.8.1)\n",
      "Requirement already satisfied: cycler>=0.10 in c:\\users\\wooky\\.conda\\envs\\multi\\lib\\site-packages (from matplotlib) (0.10.0)\n",
      "Requirement already satisfied: numpy>=1.15 in c:\\users\\wooky\\.conda\\envs\\multi\\lib\\site-packages (from matplotlib) (1.20.3)\n",
      "Requirement already satisfied: pyparsing!=2.0.4,!=2.1.2,!=2.1.6,>=2.0.3 in c:\\users\\wooky\\.conda\\envs\\multi\\lib\\site-packages (from matplotlib) (2.4.7)\n",
      "Requirement already satisfied: pillow>=6.2.0 in c:\\users\\wooky\\.conda\\envs\\multi\\lib\\site-packages (from matplotlib) (8.2.0)\n",
      "Requirement already satisfied: six in c:\\users\\wooky\\.conda\\envs\\multi\\lib\\site-packages (from cycler>=0.10->matplotlib) (1.16.0)\n"
     ]
    }
   ],
   "source": [
    "!pip install matplotlib"
   ]
  },
  {
   "cell_type": "code",
   "execution_count": 3,
   "id": "7630e154",
   "metadata": {},
   "outputs": [],
   "source": [
    "import matplotlib.pyplot as plt"
   ]
  },
  {
   "cell_type": "code",
   "execution_count": 4,
   "id": "d8044266",
   "metadata": {},
   "outputs": [
    {
     "data": {
      "image/png": "[encoded data removed]",
      "text/plain": [
       "<Figure size 432x288 with 1 Axes>"
      ]
     },
     "metadata": {
      "needs_background": "light"
     },
     "output_type": "display_data"
    }
   ],
   "source": [
    "plt.plot([10,20,30,40])    # 메모리에 기본 차트(꺾은선) 생성\n",
    "plt.show()                 # 화면에 차트 출력하기"
   ]
  },
  {
   "cell_type": "code",
   "execution_count": null,
   "id": "90b30cd9",
   "metadata": {},
   "outputs": [],
   "source": []
  },
  {
   "cell_type": "code",
   "execution_count": null,
   "id": "6d4f5ae1",
   "metadata": {},
   "outputs": [],
   "source": []
  },
  {
   "cell_type": "code",
   "execution_count": null,
   "id": "919878d8",
   "metadata": {},
   "outputs": [],
   "source": []
  },
  {
   "cell_type": "code",
   "execution_count": null,
   "id": "306a2565",
   "metadata": {},
   "outputs": [],
   "source": []
  },
  {
   "cell_type": "code",
   "execution_count": null,
   "id": "b6c9466a",
   "metadata": {},
   "outputs": [],
   "source": []
  },
  {
   "cell_type": "code",
   "execution_count": null,
   "id": "4a2b1709",
   "metadata": {},
   "outputs": [],
   "source": []
  },
  {
   "cell_type": "code",
   "execution_count": null,
   "id": "a481ed07",
   "metadata": {},
   "outputs": [],
   "source": []
  },
  {
   "cell_type": "code",
   "execution_count": null,
   "id": "dc736fd5",
   "metadata": {},
   "outputs": [],
   "source": []
  }
 ],
 "metadata": {
  "kernelspec": {
   "display_name": "Python 3 (ipykernel)",
   "language": "python",
   "name": "python3"
  },
  "language_info": {
   "codemirror_mode": {
    "name": "ipython",
    "version": 3
   },
   "file_extension": ".py",
   "mimetype": "text/x-python",
   "name": "python",
   "nbconvert_exporter": "python",
   "pygments_lexer": "ipython3",
   "version": "3.9.5"
  }
 },
 "nbformat": 4,
 "nbformat_minor": 5
}
