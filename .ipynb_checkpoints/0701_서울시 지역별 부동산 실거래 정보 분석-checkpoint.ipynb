{
 "cells": [
  {
   "cell_type": "markdown",
   "id": "0b5746ce",
   "metadata": {},
   "source": [
    "## 미션: 구별 동단의 건물주용별 평균 시세\n",
    "### 1. 구단위 데이터 조회\n",
    "- 구 이름 입력\n",
    "- 서울특별시_부동산_실거래가_정보_2020년.csv 파일에서 해당 구 이름을 기준으로 데이터 조회\n",
    "- '자치구명', '법정동명', '건물주용도', '건축년도', '건물면적', '층정보', '물건금액', '건물명' 리스트 데이터로 추가"
   ]
  },
  {
   "cell_type": "code",
   "execution_count": 1,
   "id": "768d03ce",
   "metadata": {},
   "outputs": [
    {
     "name": "stdout",
     "output_type": "stream",
     "text": [
      "조회 구 이름 입력:성북구\n"
     ]
    }
   ],
   "source": [
    "# 사용자로부터 구명 입력받아 데이터 조회\n",
    "# 출력값: '자치구명', '법정동명', '건물주용도', '건축년도', '건물면적', '층정보', '물건금액', '건물명'\n",
    "#             3            5          15(-4)      17(-2)      11          13       16(-3)      18(-1)     \n",
    "# 출력형식: 리스트 구조 출력\n",
    "\n",
    "import csv\n",
    "\n",
    "g_name=input('조회 구 이름 입력:')\n",
    "#d_name=input('조회 동 이름 입력:')\n",
    "\n",
    "f=open('./data/서울특별시_부동산_실거래가_정보_2020년.csv')\n",
    "data=csv.reader(f)\n",
    "header=next(data)\n",
    "#print(header)\n",
    "\n",
    "data_lst=[]\n",
    "\n",
    "for row in data:\n",
    "    if g_name == row[3]:      #  and d_name in row[5]\n",
    "        data_lst.append([ row[3],row[5],row[15],row[17],row[11],row[13],row[16],row[18] ])\n",
    "\n",
    "f.close()\n",
    "\n",
    "#data_lst"
   ]
  },
  {
   "cell_type": "markdown",
   "id": "51dcd70c",
   "metadata": {},
   "source": [
    "### 2. 조회 구의 동별 아파트 평균 가격 계산\n",
    "- 해당 구에 어떤 동이 있는지 동 리스트 찾기\n",
    "- 해당 리스트를 이용해 동별 아파트 평균(합계/수량) 계산\n",
    "- 동별 평균 출력"
   ]
  },
  {
   "cell_type": "code",
   "execution_count": null,
   "id": "b47b3d05",
   "metadata": {},
   "outputs": [],
   "source": []
  },
  {
   "cell_type": "code",
   "execution_count": null,
   "id": "ea15492d",
   "metadata": {},
   "outputs": [],
   "source": []
  },
  {
   "cell_type": "code",
   "execution_count": null,
   "id": "6a9098d0",
   "metadata": {},
   "outputs": [],
   "source": []
  },
  {
   "cell_type": "code",
   "execution_count": null,
   "id": "df844978",
   "metadata": {},
   "outputs": [],
   "source": []
  },
  {
   "cell_type": "code",
   "execution_count": null,
   "id": "3f773573",
   "metadata": {},
   "outputs": [],
   "source": []
  },
  {
   "cell_type": "code",
   "execution_count": null,
   "id": "e34df8f4",
   "metadata": {},
   "outputs": [],
   "source": []
  },
  {
   "cell_type": "code",
   "execution_count": null,
   "id": "49841f7a",
   "metadata": {},
   "outputs": [],
   "source": []
  },
  {
   "cell_type": "code",
   "execution_count": null,
   "id": "db0f63a3",
   "metadata": {},
   "outputs": [],
   "source": []
  },
  {
   "cell_type": "code",
   "execution_count": null,
   "id": "7fb2b27f",
   "metadata": {},
   "outputs": [],
   "source": []
  }
 ],
 "metadata": {
  "kernelspec": {
   "display_name": "Python 3 (ipykernel)",
   "language": "python",
   "name": "python3"
  },
  "language_info": {
   "codemirror_mode": {
    "name": "ipython",
    "version": 3
   },
   "file_extension": ".py",
   "mimetype": "text/x-python",
   "name": "python",
   "nbconvert_exporter": "python",
   "pygments_lexer": "ipython3",
   "version": "3.9.5"
  }
 },
 "nbformat": 4,
 "nbformat_minor": 5
}
