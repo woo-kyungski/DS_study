{
 "cells": [
  {
   "cell_type": "markdown",
   "id": "dd3b338f",
   "metadata": {},
   "source": [
    "최고기온 + 해당일자 찾기"
   ]
  },
  {
   "cell_type": "code",
   "execution_count": 1,
   "id": "6973c9aa",
   "metadata": {},
   "outputs": [
    {
     "name": "stdout",
     "output_type": "stream",
     "text": [
      "최고기온: 39.6, 날짜:2018-08-01\n"
     ]
    }
   ],
   "source": [
    "import csv\n",
    "\n",
    "f=open('./data/seoul.csv')   # seoul.csv 파일을 일기 모드로 불러옴\n",
    "data=csv.reader(f)\n",
    "header=next(data)            # 첫번째 행(제목행)  header 변수에 저장\n",
    "\n",
    "max_temp=0.0     # 온도, 실수형\n",
    "max_day=\"\"       # 날짜\n",
    "\n",
    "for row in data:\n",
    "    if row[4]!=\"\":                     # 공백 데이터인지 확인\n",
    "        if float(row[4])>max_temp:     # 온도를 실수형 자료로 변경 후 저장\n",
    "            max_temp=float(row[4])     # 날짜 정보 저장\n",
    "            max_day=row[2]\n",
    "            \n",
    "print(f'최고기온: {max_temp}, 날짜:{max_day}')"
   ]
  },
  {
   "cell_type": "markdown",
   "id": "01d9bb3a",
   "metadata": {},
   "source": [
    "## matplotlib 라이브러리를 이용한 시각화¶\n",
    "- 파이썬 시각화 모듈\n",
    "- 2D 형태의 그래프, 이미지 등을 사용할때 적용\n",
    "- 실제 과학 컴퓨팅 연구 분야나 인공지능 연구 분야에서도 많이 활용\n",
    "- https://matplotlib.org/"
   ]
  },
  {
   "cell_type": "code",
   "execution_count": null,
   "id": "16a45400",
   "metadata": {},
   "outputs": [],
   "source": []
  },
  {
   "cell_type": "code",
   "execution_count": null,
   "id": "6d42d1b7",
   "metadata": {},
   "outputs": [],
   "source": []
  },
  {
   "cell_type": "code",
   "execution_count": null,
   "id": "d24ba377",
   "metadata": {},
   "outputs": [],
   "source": []
  },
  {
   "cell_type": "code",
   "execution_count": null,
   "id": "be29f2b1",
   "metadata": {},
   "outputs": [],
   "source": []
  },
  {
   "cell_type": "code",
   "execution_count": null,
   "id": "79343953",
   "metadata": {},
   "outputs": [],
   "source": []
  },
  {
   "cell_type": "code",
   "execution_count": null,
   "id": "9f1b11d0",
   "metadata": {},
   "outputs": [],
   "source": []
  },
  {
   "cell_type": "code",
   "execution_count": null,
   "id": "dc24993b",
   "metadata": {},
   "outputs": [],
   "source": []
  },
  {
   "cell_type": "code",
   "execution_count": null,
   "id": "920df427",
   "metadata": {},
   "outputs": [],
   "source": []
  },
  {
   "cell_type": "code",
   "execution_count": null,
   "id": "8bb01930",
   "metadata": {},
   "outputs": [],
   "source": []
  }
 ],
 "metadata": {
  "kernelspec": {
   "display_name": "Python 3 (ipykernel)",
   "language": "python",
   "name": "python3"
  },
  "language_info": {
   "codemirror_mode": {
    "name": "ipython",
    "version": 3
   },
   "file_extension": ".py",
   "mimetype": "text/x-python",
   "name": "python",
   "nbconvert_exporter": "python",
   "pygments_lexer": "ipython3",
   "version": "3.9.5"
  }
 },
 "nbformat": 4,
 "nbformat_minor": 5
}
