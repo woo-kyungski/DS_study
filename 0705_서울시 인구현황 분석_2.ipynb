{
 "cells": [
  {
   "cell_type": "code",
   "execution_count": 1,
   "id": "c25a5d0c",
   "metadata": {},
   "outputs": [],
   "source": [
    "import pandas as pd\n",
    "import matplotlib.pyplot as plt\n",
    "import numpy as np"
   ]
  },
  {
   "cell_type": "code",
   "execution_count": 2,
   "id": "f22af068",
   "metadata": {},
   "outputs": [],
   "source": [
    "df1=pd.read_csv('./data/서울시 인구현황_구.txt', sep='\\t', header=1)\n",
    "df1=df1.iloc[:, [0,1,3,4,5,6,7,8,9,10,11,-1]]\n",
    "df1.drop(0, inplace=True)"
   ]
  },
  {
   "cell_type": "code",
   "execution_count": 3,
   "id": "734b99db",
   "metadata": {},
   "outputs": [],
   "source": [
    "col_name=['년도', '자치구', '총인구', '총인구(남)', '총인구(여)', '내국인', '내국인(남)', '내국인(여)',\n",
    "          '외국인', '외국인(남)','외국인(여)', '65세이상']"
   ]
  },
  {
   "cell_type": "code",
   "execution_count": 4,
   "id": "e88c11c0",
   "metadata": {},
   "outputs": [],
   "source": [
    "for i in range(len(col_name)):\n",
    "    df1.rename(columns={df1.columns[i]:col_name[i]}, inplace=True)"
   ]
  },
  {
   "cell_type": "code",
   "execution_count": 5,
   "id": "11a7d45d",
   "metadata": {},
   "outputs": [
    {
     "name": "stderr",
     "output_type": "stream",
     "text": [
      "C:\\Users\\wooky\\.conda\\envs\\multi\\lib\\site-packages\\pandas\\core\\indexing.py:1637: SettingWithCopyWarning: \n",
      "A value is trying to be set on a copy of a slice from a DataFrame\n",
      "\n",
      "See the caveats in the documentation: https://pandas.pydata.org/pandas-docs/stable/user_guide/indexing.html#returning-a-view-versus-a-copy\n",
      "  self._setitem_single_block(indexer, value, name)\n",
      "C:\\Users\\wooky\\.conda\\envs\\multi\\lib\\site-packages\\pandas\\core\\indexing.py:692: SettingWithCopyWarning: \n",
      "A value is trying to be set on a copy of a slice from a DataFrame\n",
      "\n",
      "See the caveats in the documentation: https://pandas.pydata.org/pandas-docs/stable/user_guide/indexing.html#returning-a-view-versus-a-copy\n",
      "  iloc._setitem_with_indexer(indexer, value, self.name)\n"
     ]
    }
   ],
   "source": [
    "df2=df1.iloc[:, [0,1,2,5,8,11]]\n",
    "\n",
    "for row_i in df2.index:\n",
    "    df2.loc[row_i, \"총인구\"]=df2.loc[row_i, \"총인구\"].replace(\",\",\"\")\n",
    "    df2.loc[row_i, \"내국인\"]=df2.loc[row_i, \"내국인\"].replace(\",\", \"\")\n",
    "    df2.loc[row_i, \"외국인\"]=df2.loc[row_i, \"외국인\"].replace(\",\", \"\")\n",
    "    df2.loc[row_i, \"65세이상\"]=df2.loc[row_i, \"65세이상\"].replace(\",\", \"\")"
   ]
  },
  {
   "cell_type": "code",
   "execution_count": 6,
   "id": "3eb3980c",
   "metadata": {},
   "outputs": [
    {
     "name": "stdout",
     "output_type": "stream",
     "text": [
      "년도       object\n",
      "자치구      object\n",
      "총인구       int32\n",
      "내국인       int32\n",
      "외국인       int32\n",
      "65세이상     int32\n",
      "dtype: object\n"
     ]
    }
   ],
   "source": [
    "df2=df2[df2['내국인'] != \"…\"]  # 1991년 데이터 제거\n",
    "\n",
    "df2=df2.astype({'총인구':int, '내국인':int,'외국인':int,'65세이상':int})\n",
    "print(df2.dtypes)"
   ]
  },
  {
   "cell_type": "code",
   "execution_count": 7,
   "id": "f9459be3",
   "metadata": {},
   "outputs": [],
   "source": [
    "import matplotlib.font_manager as fm\n",
    "font_name=fm.FontProperties(fname=\"C:/Windows/Fonts/malgun.ttf\").get_name()\n",
    "plt.rc('font', family=font_name)"
   ]
  },
  {
   "cell_type": "code",
   "execution_count": 8,
   "id": "cd80993e",
   "metadata": {},
   "outputs": [
    {
     "name": "stdout",
     "output_type": "stream",
     "text": [
      "조회 구이름 입력: 강동\n"
     ]
    }
   ],
   "source": [
    "gu=input('조회 구이름 입력: ')\n",
    "df3=df2[df2['자치구'] == gu]"
   ]
  },
  {
   "cell_type": "code",
   "execution_count": 9,
   "id": "efe584b7",
   "metadata": {},
   "outputs": [
    {
     "data": {
      "text/plain": [
       "(array([0. , 0.2, 0.4, 0.6, 0.8, 1. ]),\n",
       " [Text(0, 0, ''),\n",
       "  Text(0, 0, ''),\n",
       "  Text(0, 0, ''),\n",
       "  Text(0, 0, ''),\n",
       "  Text(0, 0, ''),\n",
       "  Text(0, 0, '')])"
      ]
     },
     "execution_count": 9,
     "metadata": {},
     "output_type": "execute_result"
    },
    {
     "data": {
      "image/png": "[encoded data removed]",
      "text/plain": [
       "<Figure size 720x288 with 1 Axes>"
      ]
     },
     "metadata": {
      "needs_background": "light"
     },
     "output_type": "display_data"
    }
   ],
   "source": [
    "plt.figure(figsize=(10, 4))\n",
    "plt.style.use('ggplot')\n",
    "plt.xticks(size=10, rotation=45)\n"
   ]
  },
  {
   "cell_type": "code",
   "execution_count": 10,
   "id": "fb8b4465",
   "metadata": {},
   "outputs": [
    {
     "data": {
      "text/plain": [
       "[<matplotlib.lines.Line2D at 0x2add556c190>]"
      ]
     },
     "execution_count": 10,
     "metadata": {},
     "output_type": "execute_result"
    },
    {
     "name": "stderr",
     "output_type": "stream",
     "text": [
      "C:\\Users\\wooky\\.conda\\envs\\multi\\lib\\site-packages\\matplotlib\\backends\\backend_agg.py:238: RuntimeWarning: Glyph 8722 missing from current font.\n",
      "  font.set_text(s, 0.0, flags=flags)\n",
      "C:\\Users\\wooky\\.conda\\envs\\multi\\lib\\site-packages\\matplotlib\\backends\\backend_agg.py:201: RuntimeWarning: Glyph 8722 missing from current font.\n",
      "  font.set_text(s, 0, flags=flags)\n"
     ]
    },
    {
     "data": {
      "image/png": "[encoded data removed]",
      "text/plain": [
       "<Figure size 432x288 with 1 Axes>"
      ]
     },
     "metadata": {},
     "output_type": "display_data"
    }
   ],
   "source": [
    "plt.plot(df3['년도'], df3['내국인'], marker='o', markersize=5, label='내국인')\n",
    "plt.plot(df3['년도'], df3['외국인'], marker='o', markersize=5, label='외국인')\n",
    "plt.plot(df3['년도'], df3['65세이상'], marker='o', markersize=5, label='65세이상')"
   ]
  },
  {
   "cell_type": "code",
   "execution_count": 11,
   "id": "b924496d",
   "metadata": {},
   "outputs": [
    {
     "name": "stderr",
     "output_type": "stream",
     "text": [
      "No handles with labels found to put in legend.\n"
     ]
    },
    {
     "data": {
      "image/png": "[encoded data removed]",
      "text/plain": [
       "<Figure size 432x288 with 1 Axes>"
      ]
     },
     "metadata": {},
     "output_type": "display_data"
    }
   ],
   "source": [
    "plt.legend()\n",
    "plt.title('서울시 내/외국인 및 고령자 현황 분석 그래프(1992~2020 기준)', size=15)\n",
    "plt.xlabel('년도')\n",
    "plt.ylabel('인구수')\n",
    "\n",
    "plt.show()\n"
   ]
  },
  {
   "cell_type": "code",
   "execution_count": null,
   "id": "50304827",
   "metadata": {},
   "outputs": [],
   "source": []
  },
  {
   "cell_type": "code",
   "execution_count": null,
   "id": "f8dd8063",
   "metadata": {},
   "outputs": [],
   "source": []
  },
  {
   "cell_type": "code",
   "execution_count": null,
   "id": "3185134c",
   "metadata": {},
   "outputs": [],
   "source": []
  }
 ],
 "metadata": {
  "kernelspec": {
   "display_name": "Python 3 (ipykernel)",
   "language": "python",
   "name": "python3"
  },
  "language_info": {
   "codemirror_mode": {
    "name": "ipython",
    "version": 3
   },
   "file_extension": ".py",
   "mimetype": "text/x-python",
   "name": "python",
   "nbconvert_exporter": "python",
   "pygments_lexer": "ipython3",
   "version": "3.9.5"
  }
 },
 "nbformat": 4,
 "nbformat_minor": 5
}
